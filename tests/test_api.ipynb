{
 "cells": [
  {
   "cell_type": "code",
   "execution_count": null,
   "id": "d6e25f17",
   "metadata": {},
   "outputs": [],
   "source": [
    "import re"
   ]
  },
  {
   "cell_type": "code",
   "execution_count": 10,
   "id": "cb933456",
   "metadata": {},
   "outputs": [],
   "source": [
    "name = '中级辟邪 - 阿尔法型'"
   ]
  },
  {
   "cell_type": "code",
   "execution_count": 11,
   "id": "8aa57eb0",
   "metadata": {},
   "outputs": [],
   "source": [
    "re.findall(r\"级()\")"
   ]
  },
  {
   "cell_type": "code",
   "execution_count": 12,
   "id": "4d78d88d",
   "metadata": {},
   "outputs": [
    {
     "name": "stdout",
     "output_type": "stream",
     "text": [
      "截图已保存！\n"
     ]
    }
   ],
   "source": []
  }
 ],
 "metadata": {
  "kernelspec": {
   "display_name": "base",
   "language": "python",
   "name": "python3"
  },
  "language_info": {
   "codemirror_mode": {
    "name": "ipython",
    "version": 3
   },
   "file_extension": ".py",
   "mimetype": "text/x-python",
   "name": "python",
   "nbconvert_exporter": "python",
   "pygments_lexer": "ipython3",
   "version": "3.12.7"
  }
 },
 "nbformat": 4,
 "nbformat_minor": 5
}
