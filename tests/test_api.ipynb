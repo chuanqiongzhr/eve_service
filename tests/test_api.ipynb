{
 "cells": [
  {
   "cell_type": "code",
   "execution_count": 10,
   "id": "cb933456",
   "metadata": {},
   "outputs": [],
   "source": [
    "import requests"
   ]
  },
  {
   "cell_type": "code",
   "execution_count": 11,
   "id": "8aa57eb0",
   "metadata": {},
   "outputs": [],
   "source": [
    "def test_screenshot_api():\n",
    "    name = \"伊甸币\"\n",
    "    url = f\"http://localhost:5001/api/screenshot?name={name}\"\n",
    "    response = requests.get(url)\n",
    "    if response.status_code == 200:\n",
    "        with open(f\"screenshot_{name}.png\", \"wb\") as f:\n",
    "            f.write(response.content)\n",
    "        print(\"截图已保存！\")\n",
    "    else:\n",
    "        print(\"请求失败，状态码：\", response.status_code)"
   ]
  },
  {
   "cell_type": "code",
   "execution_count": 12,
   "id": "4d78d88d",
   "metadata": {},
   "outputs": [
    {
     "name": "stdout",
     "output_type": "stream",
     "text": [
      "截图已保存！\n"
     ]
    }
   ],
   "source": [
    "test_screenshot_api()"
   ]
  }
 ],
 "metadata": {
  "kernelspec": {
   "display_name": "base",
   "language": "python",
   "name": "python3"
  },
  "language_info": {
   "codemirror_mode": {
    "name": "ipython",
    "version": 3
   },
   "file_extension": ".py",
   "mimetype": "text/x-python",
   "name": "python",
   "nbconvert_exporter": "python",
   "pygments_lexer": "ipython3",
   "version": "3.12.7"
  }
 },
 "nbformat": 4,
 "nbformat_minor": 5
}
